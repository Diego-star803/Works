{
 "cells": [
  {
   "cell_type": "markdown",
   "id": "09aa7880",
   "metadata": {},
   "source": [
    "# Proyecto01"
   ]
  },
  {
   "cell_type": "markdown",
   "id": "803b9837",
   "metadata": {},
   "source": [
    "# Mostrando información al usuario \n"
   ]
  },
  {
   "cell_type": "code",
   "execution_count": 19,
   "id": "2e515e2d",
   "metadata": {},
   "outputs": [
    {
     "name": "stdout",
     "output_type": "stream",
     "text": [
      "Empresa01\n",
      "Presupuestos clave\n"
     ]
    }
   ],
   "source": [
    "print(\"Empresa01\")\n",
    "print(\"Presupuestos clave\")\n"
   ]
  },
  {
   "cell_type": "markdown",
   "id": "d121ba10",
   "metadata": {},
   "source": [
    "# Recibir datos del usuario\n",
    "\n",
    "Comando input()\n"
   ]
  },
  {
   "cell_type": "code",
   "execution_count": 20,
   "id": "6dd46eb8",
   "metadata": {},
   "outputs": [
    {
     "data": {
      "text/plain": [
       "''"
      ]
     },
     "execution_count": 20,
     "metadata": {},
     "output_type": "execute_result"
    }
   ],
   "source": [
    "input(\"Digita tu nombre: \")\n",
    "input(\" correo electronico? \")"
   ]
  },
  {
   "cell_type": "markdown",
   "id": "fd35611d",
   "metadata": {},
   "source": [
    "## Almacenando datos en variables\n",
    "\n"
   ]
  },
  {
   "cell_type": "code",
   "execution_count": 21,
   "id": "eb38e60d",
   "metadata": {},
   "outputs": [],
   "source": [
    "proyecto = \" Generador de presupuesto en pdf\""
   ]
  },
  {
   "cell_type": "code",
   "execution_count": 22,
   "id": "7fd4f3f3",
   "metadata": {},
   "outputs": [
    {
     "name": "stdout",
     "output_type": "stream",
     "text": [
      " Generador de presupuesto en pdf\n"
     ]
    }
   ],
   "source": [
    "print(proyecto)"
   ]
  },
  {
   "cell_type": "markdown",
   "id": "c1bb166b",
   "metadata": {},
   "source": [
    "## Uniendo las partes\n"
   ]
  },
  {
   "cell_type": "code",
   "execution_count": 52,
   "id": "d55d55ff",
   "metadata": {},
   "outputs": [],
   "source": [
    "proyecto = input(\" digita la descripción del proyecto: \")\n",
    "horas_estimadas=input(\"digita la cantidad de horas estimadas:\")\n",
    "valor_hora=input(\"digite el valor de la hora trabajada\")\n",
    "tiempo_estimado=input(\"digite el plazo estimado: \")"
   ]
  },
  {
   "cell_type": "code",
   "execution_count": 49,
   "id": "dbd69585",
   "metadata": {},
   "outputs": [
    {
     "name": "stdout",
     "output_type": "stream",
     "text": [
      "proyecto01\n",
      "35\n",
      "60\n",
      "2meses\n"
     ]
    }
   ],
   "source": [
    "print(proyecto )\n",
    "print( horas_estimadas)\n",
    "print(valor_hora)\n",
    "print(tiempo_estimado)"
   ]
  },
  {
   "cell_type": "markdown",
   "id": "59b43e90",
   "metadata": {},
   "source": [
    "# Calculando el valor total del proyecto "
   ]
  },
  {
   "cell_type": "code",
   "execution_count": 53,
   "id": "07721a70",
   "metadata": {},
   "outputs": [
    {
     "data": {
      "text/plain": [
       "4200"
      ]
     },
     "execution_count": 53,
     "metadata": {},
     "output_type": "execute_result"
    }
   ],
   "source": [
    "int(horas_estimadas)*int(valor_hora)\n"
   ]
  },
  {
   "cell_type": "code",
   "execution_count": 55,
   "id": "9d8d2e67",
   "metadata": {},
   "outputs": [
    {
     "data": {
      "text/plain": [
       "4200"
      ]
     },
     "execution_count": 55,
     "metadata": {},
     "output_type": "execute_result"
    }
   ],
   "source": [
    "valor_total"
   ]
  },
  {
   "cell_type": "markdown",
   "id": "dbb6e493",
   "metadata": {},
   "source": [
    " # Generando archivo pdf del presupuesto"
   ]
  },
  {
   "cell_type": "code",
   "execution_count": 26,
   "id": "602495fd",
   "metadata": {},
   "outputs": [
    {
     "name": "stdout",
     "output_type": "stream",
     "text": [
      "Collecting fpdf\n",
      "  Downloading fpdf-1.7.2.tar.gz (39 kB)\n",
      "  Installing build dependencies: started\n",
      "  Installing build dependencies: finished with status 'done'\n",
      "  Getting requirements to build wheel: started\n",
      "  Getting requirements to build wheel: finished with status 'done'\n",
      "  Preparing metadata (pyproject.toml): started\n",
      "  Preparing metadata (pyproject.toml): finished with status 'done'\n",
      "Building wheels for collected packages: fpdf\n",
      "  Building wheel for fpdf (pyproject.toml): started\n",
      "  Building wheel for fpdf (pyproject.toml): finished with status 'done'\n",
      "  Created wheel for fpdf: filename=fpdf-1.7.2-py2.py3-none-any.whl size=40771 sha256=ba997fdb1ce2a3679565a6587fedf99fb085ab77cf6ddf0f40e7041212c7f1bd\n",
      "  Stored in directory: c:\\users\\usuario\\appdata\\local\\pip\\cache\\wheels\\aa\\da\\11\\a3189f34ddc13c26a2d0f329eac46b728c7f31c39e4dc26243\n",
      "Successfully built fpdf\n",
      "Installing collected packages: fpdf\n",
      "Successfully installed fpdf-1.7.2\n"
     ]
    },
    {
     "name": "stderr",
     "output_type": "stream",
     "text": [
      "\n",
      "[notice] A new release of pip is available: 25.0.1 -> 25.1.1\n",
      "[notice] To update, run: python.exe -m pip install --upgrade pip\n"
     ]
    }
   ],
   "source": [
    "! pip install fpdf"
   ]
  },
  {
   "cell_type": "code",
   "execution_count": 27,
   "id": "27f9c1c8",
   "metadata": {},
   "outputs": [],
   "source": [
    "from fpdf import FPDF"
   ]
  },
  {
   "cell_type": "code",
   "execution_count": 48,
   "id": "a77e01ba",
   "metadata": {},
   "outputs": [
    {
     "name": "stdout",
     "output_type": "stream",
     "text": [
      " presupuesto generado con exito \n"
     ]
    }
   ],
   "source": [
    "pdf = FPDF()\n",
    "pdf. add_page()\n",
    "pdf. set_font(\"Arial\")\n",
    "pdf. image(\"Template.png\", 0,0)\n",
    "pdf. text (115,145,proyecto)\n",
    "pdf. text (115,160, horas_estimadas)\n",
    "pdf. text (115, 175, valor_hora)\n",
    "pdf. text (115, 190, tiempo_estimado)\n",
    "pdf. text (115, 205,str(valor_total))\n",
    "pdf. output(\"Presupuesto.pdf\")\n",
    "print (\" presupuesto generado con exito \")"
   ]
  }
 ],
 "metadata": {
  "kernelspec": {
   "display_name": "Python 3",
   "language": "python",
   "name": "python3"
  },
  "language_info": {
   "codemirror_mode": {
    "name": "ipython",
    "version": 3
   },
   "file_extension": ".py",
   "mimetype": "text/x-python",
   "name": "python",
   "nbconvert_exporter": "python",
   "pygments_lexer": "ipython3",
   "version": "3.13.3"
  }
 },
 "nbformat": 4,
 "nbformat_minor": 5
}
