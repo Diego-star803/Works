{
 "cells": [
  {
   "cell_type": "markdown",
   "id": "3c9b7ded",
   "metadata": {},
   "source": [
    "## Primer paso"
   ]
  },
  {
   "cell_type": "code",
   "execution_count": 13,
   "id": "21460682",
   "metadata": {},
   "outputs": [
    {
     "ename": "NameError",
     "evalue": "name 'true' is not defined",
     "output_type": "error",
     "traceback": [
      "\u001b[31m---------------------------------------------------------------------------\u001b[39m",
      "\u001b[31mNameError\u001b[39m                                 Traceback (most recent call last)",
      "\u001b[36mCell\u001b[39m\u001b[36m \u001b[39m\u001b[32mIn[13]\u001b[39m\u001b[32m, line 29\u001b[39m\n\u001b[32m     27\u001b[39m \u001b[38;5;28;01mdef\u001b[39;00m\u001b[38;5;250m \u001b[39m\u001b[34mmain\u001b[39m():\n\u001b[32m     28\u001b[39m     total= obtener_total()\n\u001b[32m---> \u001b[39m\u001b[32m29\u001b[39m moneda_origen=\u001b[43mobtener_moneda\u001b[49m\u001b[43m(\u001b[49m\u001b[33;43m\"\u001b[39;49m\u001b[33;43morigen\u001b[39;49m\u001b[33;43m\"\u001b[39;49m\u001b[43m)\u001b[49m\n\u001b[32m     30\u001b[39m moneda_destino=obtener_moneda(\u001b[33m\"\u001b[39m\u001b[33mdestino\u001b[39m\u001b[33m\"\u001b[39m)\n\u001b[32m     32\u001b[39m \u001b[38;5;28;01mif\u001b[39;00m moneda_origen== moneda_destino:\n",
      "\u001b[36mCell\u001b[39m\u001b[36m \u001b[39m\u001b[32mIn[13]\u001b[39m\u001b[32m, line 13\u001b[39m, in \u001b[36mobtener_moneda\u001b[39m\u001b[34m(etiqueta)\u001b[39m\n\u001b[32m     11\u001b[39m \u001b[38;5;28;01mdef\u001b[39;00m\u001b[38;5;250m \u001b[39m\u001b[34mobtener_moneda\u001b[39m(etiqueta ):\n\u001b[32m     12\u001b[39m     monedas = (\u001b[33m\"\u001b[39m\u001b[33mUSD\u001b[39m\u001b[33m\"\u001b[39m,\u001b[33m\"\u001b[39m\u001b[33mCOP\u001b[39m\u001b[33m\"\u001b[39m)\n\u001b[32m---> \u001b[39m\u001b[32m13\u001b[39m     \u001b[38;5;28;01mwhile\u001b[39;00m \u001b[43mtrue\u001b[49m:\n\u001b[32m     14\u001b[39m         moneda= \u001b[38;5;28minput\u001b[39m(\u001b[33mf\u001b[39m\u001b[33m\"\u001b[39m\u001b[33mmoneda de \u001b[39m\u001b[38;5;132;01m{\u001b[39;00metiqueta\u001b[38;5;132;01m}\u001b[39;00m\u001b[33m ( USD/COP: \u001b[39m\u001b[33m\"\u001b[39m).upper()\n\u001b[32m     15\u001b[39m         \u001b[38;5;28;01mif\u001b[39;00m moneda \u001b[38;5;129;01mnot\u001b[39;00m \u001b[38;5;129;01min\u001b[39;00m monedas:\n",
      "\u001b[31mNameError\u001b[39m: name 'true' is not defined"
     ]
    }
   ],
   "source": [
    "def obtener_total():\n",
    "    while True:\n",
    "        try:\n",
    "            total = float(input(\"introduce el total: \"))\n",
    "            if total <=0:\n",
    "                raise ValueError( )\n",
    "            return total\n",
    "        except ValueError:\n",
    "            print(\"Introduce un numero positivo\")\n",
    "\n",
    "def obtener_moneda(etiqueta ):\n",
    "    monedas = (\"USD\",\"COP\")\n",
    "    while true:\n",
    "        moneda= input(f\"moneda de {etiqueta} ( USD/COP: \").upper()\n",
    "        if moneda not in monedas:\n",
    "            print(\"moneda invalida\")\n",
    "        else:\n",
    "            return moneda\n",
    "        \n",
    "def convertir (total, moneda_origen, moneda_destino):\n",
    " tasas_cambio={\n",
    "     \"USD\":{\"COP\":4213},\n",
    "     \"COP\": {\"USD: 0,00024\"},\n",
    " }\n",
    " return total * tasas_cambio[moneda_origen] [moneda_destino]\n",
    "\n",
    "def main():\n",
    "    total= obtener_total()\n",
    "moneda_origen=obtener_moneda(\"origen\")\n",
    "moneda_destino=obtener_moneda(\"destino\")\n",
    "\n",
    "if moneda_origen== moneda_destino:\n",
    " print(\"la moneda de origen y destino no pueden ser iguales\")\n",
    " return\n",
    "\n",
    "total_convertido=convertir(total,moneda_origen,moneda_destino)\n",
    "print(f\"{total} {moneda_origen}={total_convertido: .2f} {moneda_destino}\")\n",
    "\n",
    "if __name__==\"__main__\":\n",
    "    main()\n"
   ]
  }
 ],
 "metadata": {
  "kernelspec": {
   "display_name": "Python 3",
   "language": "python",
   "name": "python3"
  },
  "language_info": {
   "codemirror_mode": {
    "name": "ipython",
    "version": 3
   },
   "file_extension": ".py",
   "mimetype": "text/x-python",
   "name": "python",
   "nbconvert_exporter": "python",
   "pygments_lexer": "ipython3",
   "version": "3.13.3"
  }
 },
 "nbformat": 4,
 "nbformat_minor": 5
}
